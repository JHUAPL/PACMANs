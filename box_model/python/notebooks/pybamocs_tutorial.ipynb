{
 "cells": [
  {
   "cell_type": "markdown",
   "metadata": {
    "collapsed": true,
    "pycharm": {
     "name": "#%% md\n"
    }
   },
   "source": [
    "Copyright 2022, The Johns Hopkins University Applied Physics Laboratory LLC\n",
    "\n",
    "All rights reserved.\n",
    "\n",
    "Distributed under the terms of the BSD 3-Clause License."
   ]
  },
  {
   "cell_type": "markdown",
   "source": [
    "# PyBAMOCS Tutorial\n",
    "\n",
    "PyBAMOCS uses a simplified box model to simulate the Atlantic meridional overturning circulation (AMOC) simulation, used by [Gnanadesikan et al.](https://journals.ametsoc.org/view/journals/clim/31/22/jcli-d-18-0388.1.xml) to examine the stability of the AMOC. For information about installing PyBAMOCS and the PyBAMOCS API, please see the included [README](../README.md).\n",
    "\n",
    "This tutorial is meant to be a tool for getting started using the PyBAMOCS package and the included `box_model` functionality, and is not meant to be a comprehensive overview of all functions or capabilities of the included code. For a more thorough understanding, please consider viewing the code itself, and the examples in the [scrips](../scripts) folder.\n",
    "\n",
    "This tutorial assumes that you have downloaded the PyBAMOCs code from the PACMANs repository on GitHub and installed PyBAMOCS and [Jupyter Notebook](https://jupyter.org) in your Python environment."
   ],
   "metadata": {
    "collapsed": false,
    "pycharm": {
     "name": "#%% md\n"
    }
   }
  },
  {
   "cell_type": "code",
   "execution_count": 53,
   "outputs": [],
   "source": [
    "import time\n",
    "from matplotlib import pyplot as plt\n",
    "from typing import Union\n",
    "\n",
    "# Import the `box_model` function and its arguments\n",
    "from pybamocs.box_model import box_model\n",
    "from pybamocs.box_model import NORTH_IDX, SOUTH_IDX, LOW_IDX, DEEP_IDX\n",
    "from pybamocs.box_model_args import (\n",
    "    BoxModelBoxDimensions,\n",
    "    BoxModelInitConditions,\n",
    "    BoxModelTimeStep,\n",
    "    BoxModelParameters\n",
    ")\n",
    "from pybamocs.box_model_args import dict_from_box_args, box_args_from_dict"
   ],
   "metadata": {
    "collapsed": false,
    "pycharm": {
     "name": "#%%\n"
    }
   }
  },
  {
   "cell_type": "code",
   "execution_count": 4,
   "outputs": [],
   "source": [
    "# Box model settings are divided into for groups:\n",
    "box_model_dimensions = BoxModelBoxDimensions()\n",
    "box_model_initial_conditions = BoxModelInitConditions()\n",
    "box_model_time_settings = BoxModelTimeStep()\n",
    "box_model_parameters = BoxModelParameters()\n",
    "\n",
    "# And there is one object for each group as shown above."
   ],
   "metadata": {
    "collapsed": false,
    "pycharm": {
     "name": "#%%\n"
    }
   }
  },
  {
   "cell_type": "markdown",
   "source": [
    "Notice that no arguments are required to initialize the objects in the previous cell, this is because each argument has a default value. Not passing in a value for an argument sets it to the default value.\n",
    "\n",
    "The following cells show the default values of each object. For more information about what each argument represents, see [pybamocs.box_model_args.py](../pybamocs/box_model_args.py)."
   ],
   "metadata": {
    "collapsed": false,
    "pycharm": {
     "name": "#%% md\n"
    }
   }
  },
  {
   "cell_type": "code",
   "execution_count": 16,
   "outputs": [],
   "source": [
    "def print_box_model_argument_settings(argument: Union[BoxModelBoxDimensions, BoxModelInitConditions,\n",
    "                                                      BoxModelTimeStep, BoxModelParameters]) -> None:\n",
    "    \"\"\"\n",
    "    Print box model settings to console for a given box_model argument.\n",
    "    :param argument: One of the box_model argument objects.\n",
    "    \"\"\"\n",
    "    settings_dict = argument.to_dict()  # Get the settings as a python dictionary\n",
    "\n",
    "    print(\"vvvvvvvvvvvvvvvvvvvvvvvvvvvvvvvvvvvvvvvvvvvvvvvvvvvvvvvvvvvvvvv\")\n",
    "    # Print each key, value pair in the dictionary\n",
    "    for key, value in settings_dict.items():\n",
    "        print(f\"{key}={value}\")\n",
    "    print(\"^^^^^^^^^^^^^^^^^^^^^^^^^^^^^^^^^^^^^^^^^^^^^^^^^^^^^^^^^^^^^^^\")\n",
    "    print()\n"
   ],
   "metadata": {
    "collapsed": false,
    "pycharm": {
     "name": "#%%\n"
    }
   }
  },
  {
   "cell_type": "code",
   "execution_count": 23,
   "outputs": [
    {
     "name": "stdout",
     "output_type": "stream",
     "text": [
      "------------------------------------------------------------\n",
      "Box Dimensions:\n",
      "vvvvvvvvvvvvvvvvvvvvvvvvvvvvvvvvvvvvvvvvvvvvvvvvvvvvvvvvvvvvvvv\n",
      "area=360000000000000.0\n",
      "area_low=200000000000000.0\n",
      "area_s=100000000000000.0\n",
      "area_n=60000000000000.0\n",
      "D_high=100\n",
      "^^^^^^^^^^^^^^^^^^^^^^^^^^^^^^^^^^^^^^^^^^^^^^^^^^^^^^^^^^^^^^^\n",
      "\n"
     ]
    }
   ],
   "source": [
    "print(\"------------------------------------------------------------\")\n",
    "print(\"Box Dimensions:\")\n",
    "print_box_model_argument_settings(box_model_dimensions)"
   ],
   "metadata": {
    "collapsed": false,
    "pycharm": {
     "name": "#%%\n"
    }
   }
  },
  {
   "cell_type": "code",
   "execution_count": 22,
   "outputs": [
    {
     "name": "stdout",
     "output_type": "stream",
     "text": [
      "------------------------------------------------------------\n",
      "Initial Conditions\n",
      "vvvvvvvvvvvvvvvvvvvvvvvvvvvvvvvvvvvvvvvvvvvvvvvvvvvvvvvvvvvvvvv\n",
      "D_low0=400.0\n",
      "T_north0=2.0\n",
      "T_south0=4.0\n",
      "T_low0=17.0\n",
      "T_deep0=3.0\n",
      "S_north0=35.0\n",
      "S_south0=36.0\n",
      "S_low0=36.0\n",
      "S_deep0=34.5\n",
      "^^^^^^^^^^^^^^^^^^^^^^^^^^^^^^^^^^^^^^^^^^^^^^^^^^^^^^^^^^^^^^^\n",
      "\n"
     ]
    }
   ],
   "source": [
    "print(\"------------------------------------------------------------\")\n",
    "print(\"Initial Conditions\")\n",
    "print_box_model_argument_settings(box_model_initial_conditions)"
   ],
   "metadata": {
    "collapsed": false,
    "pycharm": {
     "name": "#%%\n"
    }
   }
  },
  {
   "cell_type": "code",
   "execution_count": 21,
   "outputs": [
    {
     "name": "stdout",
     "output_type": "stream",
     "text": [
      "------------------------------------------------------------\n",
      "Model Time Step Parameters:\n",
      "vvvvvvvvvvvvvvvvvvvvvvvvvvvvvvvvvvvvvvvvvvvvvvvvvvvvvvvvvvvvvvv\n",
      "N=4000\n",
      "time_step_size_in_years=0.25\n",
      "^^^^^^^^^^^^^^^^^^^^^^^^^^^^^^^^^^^^^^^^^^^^^^^^^^^^^^^^^^^^^^^\n",
      "\n"
     ]
    }
   ],
   "source": [
    "print(\"------------------------------------------------------------\")\n",
    "print(\"Model Time Step Parameters:\")\n",
    "print_box_model_argument_settings(box_model_time_settings)"
   ],
   "metadata": {
    "collapsed": false,
    "pycharm": {
     "name": "#%%\n"
    }
   }
  },
  {
   "cell_type": "code",
   "execution_count": 20,
   "outputs": [
    {
     "name": "stdout",
     "output_type": "stream",
     "text": [
      "------------------------------------------------------------\n",
      "Model Parameters\n",
      "vvvvvvvvvvvvvvvvvvvvvvvvvvvvvvvvvvvvvvvvvvvvvvvvvvvvvvvvvvvvvvv\n",
      "K_v=1e-05\n",
      "A_GM=1000.0\n",
      "M_ek=25000000.0\n",
      "A_Redi=1000.0\n",
      "M_SD=15000000.0\n",
      "Fws=1000000.0\n",
      "Fwn=50000.0\n",
      "epsilon=0.00012\n",
      "^^^^^^^^^^^^^^^^^^^^^^^^^^^^^^^^^^^^^^^^^^^^^^^^^^^^^^^^^^^^^^^\n",
      "\n"
     ]
    }
   ],
   "source": [
    "print(\"------------------------------------------------------------\")\n",
    "print(\"Model Parameters\")\n",
    "print_box_model_argument_settings(box_model_parameters)"
   ],
   "metadata": {
    "collapsed": false,
    "pycharm": {
     "name": "#%%\n"
    }
   }
  },
  {
   "cell_type": "markdown",
   "source": [
    "If preferred, included are helper functions to deal with all settings combined in regular Python dictionaries"
   ],
   "metadata": {
    "collapsed": false,
    "pycharm": {
     "name": "#%% md\n"
    }
   }
  },
  {
   "cell_type": "code",
   "execution_count": 28,
   "outputs": [
    {
     "name": "stdout",
     "output_type": "stream",
     "text": [
      "All box model settings in one dictionary\n",
      "\n",
      "{'area': 360000000000000.0, 'area_low': 200000000000000.0, 'area_s': 100000000000000.0, 'area_n': 60000000000000.0, 'D_high': 100, 'D_low0': 400.0, 'T_north0': 2.0, 'T_south0': 4.0, 'T_low0': 17.0, 'T_deep0': 3.0, 'S_north0': 35.0, 'S_south0': 36.0, 'S_low0': 36.0, 'S_deep0': 34.5, 'K_v': 1e-05, 'A_GM': 1000.0, 'M_ek': 25000000.0, 'A_Redi': 1000.0, 'M_SD': 15000000.0, 'Fws': 1000000.0, 'Fwn': 50000.0, 'epsilon': 0.00012, 'N': 4000, 'time_step_size_in_years': 0.25}\n"
     ]
    }
   ],
   "source": [
    "print(\"All box model settings in one dictionary\")\n",
    "print()\n",
    "box_args_dict = dict_from_box_args(box_model_dimensions, box_model_initial_conditions, box_model_parameters, box_model_time_settings)\n",
    "print(box_args_dict)"
   ],
   "metadata": {
    "collapsed": false,
    "pycharm": {
     "name": "#%%\n"
    }
   }
  },
  {
   "cell_type": "code",
   "execution_count": 32,
   "outputs": [
    {
     "name": "stdout",
     "output_type": "stream",
     "text": [
      "Getting box model argument objects from a dictionary\n",
      "\n",
      "[('box_dimensions', <pybamocs.box_model_args.BoxModelBoxDimensions object at 0x7ff1d94a0640>), ('init_conditions', <pybamocs.box_model_args.BoxModelInitConditions object at 0x7ff1d9562ca0>), ('box_params', <pybamocs.box_model_args.BoxModelParameters object at 0x7ff1d9551460>), ('time_step', <pybamocs.box_model_args.BoxModelTimeStep object at 0x7ff1d94cbf40>)]\n"
     ]
    }
   ],
   "source": [
    "print(\"Getting box model argument objects from a dictionary\")\n",
    "print()\n",
    "box_args = box_args_from_dict(box_args_dict)\n",
    "print([(arg, obj) for arg, obj in box_args.items()])"
   ],
   "metadata": {
    "collapsed": false,
    "pycharm": {
     "name": "#%%\n"
    }
   }
  },
  {
   "cell_type": "markdown",
   "source": [
    "You can update the parameters in a box model argument object to run a new experiment, or make copies and update those parameters."
   ],
   "metadata": {
    "collapsed": false
   }
  },
  {
   "cell_type": "code",
   "source": [
    "new_param_arg = BoxModelParameters(epsilon=0.002)\n",
    "print('epsilon:', new_param_arg.epsilon)\n",
    "new_param_arg.epsilon = 0.005\n",
    "print('updated...')\n",
    "print('epsilon:', new_param_arg.epsilon)\n",
    "\n",
    "new_param_arg_copy = new_param_arg.copy()\n",
    "new_param_arg_copy.epsilon = 100000\n",
    "\n",
    "print('copied...')\n",
    "\n",
    "print('same object epsilon:', new_param_arg.epsilon)\n",
    "print('copied object\\'s epsilon after update:', new_param_arg_copy.epsilon)"
   ],
   "metadata": {
    "collapsed": false,
    "pycharm": {
     "name": "#%%\n"
    }
   },
   "execution_count": 35,
   "outputs": [
    {
     "name": "stdout",
     "output_type": "stream",
     "text": [
      "epsilon: 0.002\n",
      "updated...\n",
      "epsilon: 0.005\n",
      "copied...\n",
      "same object epsilon: 0.005\n",
      "copied object's after update epsilon: 100000\n"
     ]
    }
   ]
  },
  {
   "cell_type": "markdown",
   "source": [
    "## Running a box model simulation"
   ],
   "metadata": {
    "collapsed": false,
    "pycharm": {
     "name": "#%% md\n"
    }
   }
  },
  {
   "cell_type": "code",
   "execution_count": 43,
   "outputs": [
    {
     "name": "stdout",
     "output_type": "stream",
     "text": [
      "Box model output:\n",
      "<pybamocs.box_model_args.BoxModelResult object at 0x7ff1c8464220>\n",
      "\n",
      "------------------------------------------------------\n",
      "Shape of M_n: (4000,)\n",
      "\n",
      "------------------------------------------------------\n",
      "First 3 values of each output:\n",
      "M_n: [21477028.72709675 21079480.89969894 20812257.02873391]\n",
      "M_upw: [5000000.         5001245.50358385 5002293.70599358]\n",
      "M_eddy: [10000000.          9997509.61318945  9995414.69148277]\n",
      "D_low: [400.         399.90038453 399.81658766]\n",
      "T_north: [2.         2.46273224 2.78629748]\n",
      "T_south: [4.         4.173448   4.29444505]\n",
      "T_low: [17.         16.94705068 16.89830683]\n",
      "T_deep: [3.         3.00002853 3.0001507 ]\n",
      "S_north: [35.         35.02854932 35.05579254]\n",
      "S_south: [36.         35.9243136  35.85232083]\n",
      "S_low: [36.         36.00278966 36.00531313]\n",
      "S_deep: [34.5        34.50031742 34.50062474]\n",
      "sigma0_north: [1027.97173704 1027.9560741  1027.94929663]\n",
      "sigma0_south: [1028.58210098 1028.50303197 1028.43244304]\n",
      "sigma0_low: [1026.28211113 1026.29692278 1026.31050239]\n",
      "sigma0_deep: [1027.48594718 1027.48619799 1027.48643218]\n"
     ]
    }
   ],
   "source": [
    "# To run the box model, simply call the `box_model` function with your argument objects\n",
    "results = box_model(box_model_dimensions, box_model_initial_conditions, box_model_parameters, box_model_time_settings)\n",
    "\n",
    "# Note that the results are contained in a BoxModelResult object\n",
    "print(\"Box model output:\")\n",
    "print(results)\n",
    "print()\n",
    "\n",
    "# You can access specific results directly from the object\n",
    "print(\"------------------------------------------------------\")\n",
    "print(\"Shape of M_n:\", results.M_n.shape)\n",
    "print()\n",
    "\n",
    "# or you can \"unpack\" them all at once\n",
    "M_n, M_upw, M_eddy, D_low, T, S, sigma0 = results.unpack()\n",
    "\n",
    "print(\"------------------------------------------------------\")\n",
    "print(\"First 3 values of each output:\")\n",
    "print(\"M_n:\", M_n[:3])\n",
    "print(\"M_upw:\", M_upw[:3])\n",
    "print(\"M_eddy:\", M_eddy[:3])\n",
    "print(\"D_low:\", D_low[:3])\n",
    "print(\"T_north:\", T[NORTH_IDX, :3])\n",
    "print(\"T_south:\", T[SOUTH_IDX, :3])\n",
    "print(\"T_low:\", T[LOW_IDX, :3])\n",
    "print(\"T_deep:\", T[DEEP_IDX, :3])\n",
    "print(\"S_north:\", S[NORTH_IDX, :3])\n",
    "print(\"S_south:\", S[SOUTH_IDX, :3])\n",
    "print(\"S_low:\", S[LOW_IDX, :3])\n",
    "print(\"S_deep:\", S[DEEP_IDX, :3])\n",
    "print(\"sigma0_north:\", sigma0[NORTH_IDX, :3])\n",
    "print(\"sigma0_south:\", sigma0[SOUTH_IDX, :3])\n",
    "print(\"sigma0_low:\", sigma0[LOW_IDX, :3])\n",
    "print(\"sigma0_deep:\", sigma0[DEEP_IDX, :3])"
   ],
   "metadata": {
    "collapsed": false,
    "pycharm": {
     "name": "#%%\n"
    }
   }
  },
  {
   "cell_type": "markdown",
   "source": [
    "Here is an example of how one might visualize the results using the `pyplot` submodule from [Matplotlib](https://matplotlib.org)"
   ],
   "metadata": {
    "collapsed": false
   }
  },
  {
   "cell_type": "code",
   "execution_count": 47,
   "outputs": [
    {
     "data": {
      "text/plain": "<Figure size 432x288 with 1 Axes>",
      "image/png": "[encoded data removed]"
     },
     "metadata": {
      "needs_background": "light"
     },
     "output_type": "display_data"
    },
    {
     "data": {
      "text/plain": "<Figure size 432x288 with 4 Axes>",
      "image/png": "[encoded data removed]"
     },
     "metadata": {
      "needs_background": "light"
     },
     "output_type": "display_data"
    },
    {
     "data": {
      "text/plain": "<Figure size 432x288 with 4 Axes>",
      "image/png": "[encoded data removed]"
     },
     "metadata": {
      "needs_background": "light"
     },
     "output_type": "display_data"
    },
    {
     "data": {
      "text/plain": "<Figure size 432x288 with 4 Axes>",
      "image/png": "[encoded data removed]"
     },
     "metadata": {
      "needs_background": "light"
     },
     "output_type": "display_data"
    }
   ],
   "source": [
    "plt.plot(M_n, label='M_n')\n",
    "plt.plot(M_upw, label='M_upw')\n",
    "plt.plot(M_eddy, label='M_eddy')\n",
    "plt.plot(D_low, label='Dlow')\n",
    "plt.legend()\n",
    "plt.title(\"1D Box Model Outputs\")\n",
    "plt.show()\n",
    "fig, ax = plt.subplots(nrows=2, ncols=2)\n",
    "ax[0, 0].plot(T[NORTH_IDX], label='North')\n",
    "ax[0, 1].plot(T[SOUTH_IDX], label='South')\n",
    "ax[1, 0].plot(T[LOW_IDX], label='Low')\n",
    "ax[1, 1].plot(T[DEEP_IDX], label='Deep')\n",
    "ax[0, 0].legend()\n",
    "ax[0, 1].legend()\n",
    "ax[1, 0].legend()\n",
    "ax[1, 1].legend()\n",
    "plt.suptitle(\"Temperature in the 4 different boxes\")\n",
    "plt.tight_layout()\n",
    "plt.show()\n",
    "fig1, ax1 = plt.subplots(nrows=2, ncols=2)\n",
    "ax1[0, 0].plot(S[NORTH_IDX], label='North')\n",
    "ax1[0, 1].plot(S[SOUTH_IDX], label='South')\n",
    "ax1[1, 0].plot(S[LOW_IDX], label='Low')\n",
    "ax1[1, 1].plot(S[DEEP_IDX], label='Deep')\n",
    "ax1[0, 0].legend()\n",
    "ax1[0, 1].legend()\n",
    "ax1[1, 0].legend()\n",
    "ax1[1, 1].legend()\n",
    "plt.suptitle(\"Salinity in the 4 different boxes\")\n",
    "plt.tight_layout()\n",
    "plt.show()\n",
    "fig2, ax2 = plt.subplots(nrows=2, ncols=2)\n",
    "ax2[0, 0].plot(sigma0[NORTH_IDX], label='North')\n",
    "ax2[0, 1].plot(sigma0[SOUTH_IDX], label='South')\n",
    "ax2[1, 0].plot(sigma0[LOW_IDX], label='Low')\n",
    "ax2[1, 1].plot(sigma0[DEEP_IDX], label='Deep')\n",
    "ax2[0, 0].legend()\n",
    "ax2[0, 1].legend()\n",
    "ax2[1, 0].legend()\n",
    "ax2[1, 1].legend()\n",
    "plt.suptitle(\"Density in the 4 different boxes\")\n",
    "plt.tight_layout()\n",
    "plt.show()"
   ],
   "metadata": {
    "collapsed": false,
    "pycharm": {
     "name": "#%%\n"
    }
   }
  },
  {
   "cell_type": "markdown",
   "source": [
    "## Running multiple experiments with the box model"
   ],
   "metadata": {
    "collapsed": false,
    "pycharm": {
     "name": "#%% md\n"
    }
   }
  },
  {
   "cell_type": "code",
   "execution_count": 56,
   "outputs": [
    {
     "data": {
      "text/plain": "<Figure size 432x288 with 1 Axes>",
      "image/png": "[encoded data removed]"
     },
     "metadata": {
      "needs_background": "light"
     },
     "output_type": "display_data"
    },
    {
     "name": "stdout",
     "output_type": "stream",
     "text": [
      "Total time to collect data: 4.946042776107788 seconds\n"
     ]
    }
   ],
   "source": [
    "# Consider an example of some data collection\n",
    "\n",
    "Fwn_values_to_test = [10000, 50000, 100000, 500000, 1000000]\n",
    "alternate_north_starting_temp = 4.0\n",
    "\n",
    "box_dims = BoxModelBoxDimensions()\n",
    "params = BoxModelParameters()\n",
    "time_step = BoxModelTimeStep()\n",
    "init = BoxModelInitConditions(T_north0=alternate_north_starting_temp)\n",
    "\n",
    "# Collect the data... (should take a few seconds)\n",
    "start_time = time.time()\n",
    "results = []\n",
    "for fwn in Fwn_values_to_test:\n",
    "    params.Fwn = fwn\n",
    "    results.append(box_model(box_dims, init, params, time_step))\n",
    "time_to_collect_data = time.time() - start_time\n",
    "\n",
    "# Let's look at the difference in M_n for each run\n",
    "plt.figure()\n",
    "for i in range(len(Fwn_values_to_test)):\n",
    "    plt.plot(results[i].M_n, label=f\"Fwn={Fwn_values_to_test[i]}\")\n",
    "plt.title(f\"M_n for different Northern Fluxes and T_north0={alternate_north_starting_temp}\")\n",
    "plt.legend()\n",
    "plt.show()\n",
    "\n",
    "print(f\"Total time to collect data: {time_to_collect_data} seconds\")"
   ],
   "metadata": {
    "collapsed": false,
    "pycharm": {
     "name": "#%%\n"
    }
   }
  },
  {
   "cell_type": "markdown",
   "source": [
    "Note that collecting data this way is embarrassingly parallel. To more quickly collect data on multiple configurations, consider a simple [multiprocessing](https://docs.python.org/3/library/multiprocessing.html) approach."
   ],
   "metadata": {
    "collapsed": false,
    "pycharm": {
     "name": "#%% md\n"
    }
   }
  }
 ],
 "metadata": {
  "kernelspec": {
   "display_name": "Python 3",
   "language": "python",
   "name": "python3"
  },
  "language_info": {
   "codemirror_mode": {
    "name": "ipython",
    "version": 2
   },
   "file_extension": ".py",
   "mimetype": "text/x-python",
   "name": "python",
   "nbconvert_exporter": "python",
   "pygments_lexer": "ipython2",
   "version": "2.7.6"
  }
 },
 "nbformat": 4,
 "nbformat_minor": 0
}