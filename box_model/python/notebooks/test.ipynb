{
 "cells": [
  {
   "cell_type": "code",
   "execution_count": 3,
   "id": "f28abaad",
   "metadata": {},
   "outputs": [
    {
     "name": "stdout",
     "output_type": "stream",
     "text": [
      "this line works\n"
     ]
    }
   ],
   "source": [
    "print('this line works')"
   ]
  },
  {
   "cell_type": "code",
   "execution_count": 4,
   "id": "052cc9cd",
   "metadata": {},
   "outputs": [
    {
     "name": "stdout",
     "output_type": "stream",
     "text": [
      "also this line\n"
     ]
    }
   ],
   "source": [
    "print('also this line')"
   ]
  },
  {
   "cell_type": "code",
   "execution_count": null,
   "id": "b9fea1c8",
   "metadata": {},
   "outputs": [],
   "source": []
  }
 ],
 "metadata": {
  "kernelspec": {
   "display_name": "env1",
   "language": "python",
   "name": "env1"
  },
  "language_info": {
   "codemirror_mode": {
    "name": "ipython",
    "version": 3
   },
   "file_extension": ".py",
   "mimetype": "text/x-python",
   "name": "python",
   "nbconvert_exporter": "python",
   "pygments_lexer": "ipython3",
   "version": "3.9.12"
  }
 },
 "nbformat": 4,
 "nbformat_minor": 5
}
