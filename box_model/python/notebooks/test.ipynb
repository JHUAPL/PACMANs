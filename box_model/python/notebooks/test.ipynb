{
 "cells": [
  {
   "cell_type": "code",
   "execution_count": null,
   "id": "c2ca1b30",
   "metadata": {},
   "outputs": [],
   "source": [
    "Copyright 2022, The Johns Hopkins University Applied Physics Laboratory LLC\n",
    "\n",
    "All rights reserved.\n",
    "\n",
    "Distributed under the terms of the BSD 3-Clause License.\n"
   ]
  },
  {
   "cell_type": "code",
   "execution_count": null,
   "id": "3abbdf45",
   "metadata": {},
   "outputs": [],
   "source": [
    "# PyBAMOCS Tutorial\n",
    "\n",
    "PyBAMOCS uses a simplified box model to simulate the Atlantic meridional overturning circulation (AMOC) simulation, used by [Gnanadesikan et al.](https://journals.ametsoc.org/view/journals/clim/31/22/jcli-d-18-0388.1.xml) to examine the stability of the AMOC. For information about installing PyBAMOCS and the PyBAMOCS API, please see the included [README](../README.md).\n",
    "\n",
    "This tutorial is meant to be a tool for getting started using the PyBAMOCS package and the included `box_model` functionality, and is not meant to be a comprehensive overview of all functions or capabilities of the included code. For a more thorough understanding, please consider viewing the code itself, and the examples in the [scripts](../scripts) folder.\n",
    "\n",
    "This tutorial assumes that you have downloaded the PyBAMOCs code from the PACMANs repository on GitHub and installed PyBAMOCS and [Jupyter Notebook](https://jupyter.org) in your Python environment.\n"
   ]
  },
  {
   "cell_type": "code",
   "execution_count": null,
   "id": "9ee2eeee",
   "metadata": {},
   "outputs": [],
   "source": [
    "import time\n",
    "from matplotlib import pyplot as plt\n",
    "from typing import Union\n",
    "\n",
    "# Import the `box_model` function and its arguments\n",
    "\n",
    "from pybamocs.box_model import box_model\n",
    "from pybamocs.box_model import NORTH_IDX, SOUTH_IDX, LOW_IDX, DEEP_IDX\n",
    "from pybamocs.box_model_args import (\n",
    "    BoxModelBoxDimensions,\n",
    "    BoxModelInitConditions,\n",
    "    BoxModelTimeStep,\n",
    "    BoxModelParameters\n",
    ")\n",
    "from pybamocs.box_model_args import dict_from_box_args, box_args_from_dict\n"
   ]
  },
  {
   "cell_type": "code",
   "execution_count": null,
   "id": "bdf5d066",
   "metadata": {},
   "outputs": [],
   "source": [
    "# Box model settings are divided into for groups:\n",
    "\n",
    "box_model_dimensions = BoxModelBoxDimensions()\n",
    "box_model_initial_conditions = BoxModelInitConditions()\n",
    "box_model_time_settings = BoxModelTimeStep()\n",
    "box_model_parameters = BoxModelParameters()\n",
    "\n",
    "# And there is one object for each group as shown above.\n"
   ]
  },
  {
   "cell_type": "code",
   "execution_count": null,
   "id": "87216eec",
   "metadata": {},
   "outputs": [],
   "source": [
    "Notice that no arguments are required to initialize the objects in the previous cell, this is because each argument has a default value. Not passing in a value for an argument sets it to the default value.\n",
    "\n",
    "The following cells show the default values of each object. For more information about what each argument represents, see [pybamocs.box_model_args.py](../pybamocs/box_model_args.py).\n"
   ]
  },
  {
   "cell_type": "code",
   "execution_count": null,
   "id": "cd17f568",
   "metadata": {},
   "outputs": [],
   "source": [
    "def print_box_model_argument_settings(argument: Union[BoxModelBoxDimensions, BoxModelInitConditions,\n",
    "                                                      BoxModelTimeStep, BoxModelParameters]) -> None:\n",
    "    \"\"\"\n",
    "    Print box model settings to console for a given box_model argument.\n",
    "    :param argument: One of the box_model argument objects.\n",
    "    \"\"\"\n",
    "    \n",
    "    settings_dict = argument.to_dict()  # Get the settings as a python dictionary\n",
    "\n",
    "    print(\"vvvvvvvvvvvvvvvvvvvvvvvvvvvvvvvvvvvvvvvvvvvvvvvvvvvvvvvvvvvvvvv\")\n",
    "    # Print each key, value pair in the dictionary\n",
    "    for key, value in settings_dict.items():\n",
    "        print(f\"{key}={value}\")\n",
    "    print(\"^^^^^^^^^^^^^^^^^^^^^^^^^^^^^^^^^^^^^^^^^^^^^^^^^^^^^^^^^^^^^^^\")\n",
    "    print()\n"
   ]
  },
  {
   "cell_type": "code",
   "execution_count": null,
   "id": "f9eea6fe",
   "metadata": {},
   "outputs": [],
   "source": [
    "print(\"------------------------------------------------------------\")\n",
    "print(\"Box Dimensions:\")\n",
    "print_box_model_argument_settings(box_model_dimensions)"
   ]
  },
  {
   "cell_type": "code",
   "execution_count": null,
   "id": "5ce0fa3d",
   "metadata": {},
   "outputs": [],
   "source": []
  }
 ],
 "metadata": {
  "kernelspec": {
   "display_name": "Python (pacmans)”\n",
   "language": "python",
   "name": "pacmans"
  },
  "language_info": {
   "codemirror_mode": {
    "name": "ipython",
    "version": 3
   },
   "file_extension": ".py",
   "mimetype": "text/x-python",
   "name": "python",
   "nbconvert_exporter": "python",
   "pygments_lexer": "ipython3",
   "version": "3.9.12"
  }
 },
 "nbformat": 4,
 "nbformat_minor": 5
}
